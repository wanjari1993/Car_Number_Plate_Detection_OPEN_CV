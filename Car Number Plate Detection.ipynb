{
 "cells": [
  {
   "cell_type": "markdown",
   "id": "6ef8831c",
   "metadata": {},
   "source": [
    "# Car Number Detect through Image"
   ]
  },
  {
   "cell_type": "code",
   "execution_count": 1,
   "id": "c8ccd5e4",
   "metadata": {},
   "outputs": [],
   "source": [
    "import cv2\n",
    "import numpy as np"
   ]
  },
  {
   "cell_type": "code",
   "execution_count": 2,
   "id": "307529f8",
   "metadata": {},
   "outputs": [],
   "source": [
    "plate_cascade = cv2.CascadeClassifier(r\"D:\\Naresh IT\\Project\\Akshay Project\\Project4-Car Number Plate Detection\\haarcascade_russian_plate_number.xml\")\n",
    "img = cv2.imread(r\"D:\\Naresh IT\\Project\\Akshay Project\\Project4-Car Number Plate Detection\\Car.jpeg\")\n",
    "\n",
    "gray = cv2.cvtColor(img, cv2.COLOR_BGR2GRAY)\n",
    "plates = plate_cascade.detectMultiScale(gray, scaleFactor=1.2, minNeighbors=5, minSize=(100, 25), flags=cv2.CASCADE_SCALE_IMAGE)\n",
    "for (x, y, w, h) in plates:\n",
    "    cv2.rectangle(img, (x, y), (x+w, y+h), (0, 255, 0), 2)\n",
    "    cv2.imshow('Number Plate Detection', img)\n",
    "    \n",
    "cv2.waitKey(0)\n",
    "cv2.destroyAllWindows()"
   ]
  },
  {
   "cell_type": "code",
   "execution_count": 3,
   "id": "24989762",
   "metadata": {
    "scrolled": true
   },
   "outputs": [
    {
     "data": {
      "text/plain": [
       "array([[[187, 217, 228],\n",
       "        [187, 217, 228],\n",
       "        [187, 217, 228],\n",
       "        ...,\n",
       "        [251, 224, 187],\n",
       "        [253, 228, 188],\n",
       "        [250, 225, 185]],\n",
       "\n",
       "       [[189, 219, 230],\n",
       "        [188, 218, 229],\n",
       "        [188, 218, 229],\n",
       "        ...,\n",
       "        [248, 222, 185],\n",
       "        [255, 235, 195],\n",
       "        [252, 227, 187]],\n",
       "\n",
       "       [[192, 220, 231],\n",
       "        [192, 220, 231],\n",
       "        [189, 219, 230],\n",
       "        ...,\n",
       "        [244, 221, 183],\n",
       "        [255, 235, 198],\n",
       "        [249, 223, 186]],\n",
       "\n",
       "       ...,\n",
       "\n",
       "       [[ 52,  65,  67],\n",
       "        [ 50,  63,  65],\n",
       "        [ 48,  61,  63],\n",
       "        ...,\n",
       "        [ 20,  25,  28],\n",
       "        [ 19,  24,  27],\n",
       "        [ 19,  24,  27]],\n",
       "\n",
       "       [[ 45,  58,  60],\n",
       "        [ 40,  53,  55],\n",
       "        [ 41,  54,  56],\n",
       "        ...,\n",
       "        [ 19,  24,  27],\n",
       "        [ 19,  24,  27],\n",
       "        [ 19,  24,  27]],\n",
       "\n",
       "       [[ 30,  43,  45],\n",
       "        [ 36,  49,  51],\n",
       "        [ 40,  53,  55],\n",
       "        ...,\n",
       "        [ 19,  24,  27],\n",
       "        [ 19,  24,  27],\n",
       "        [ 19,  24,  27]]], dtype=uint8)"
      ]
     },
     "execution_count": 3,
     "metadata": {},
     "output_type": "execute_result"
    }
   ],
   "source": [
    "img"
   ]
  },
  {
   "cell_type": "markdown",
   "id": "cf1d44b8",
   "metadata": {},
   "source": [
    "# Car Number Detect through Video"
   ]
  },
  {
   "cell_type": "code",
   "execution_count": 1,
   "id": "43e25b34",
   "metadata": {},
   "outputs": [],
   "source": [
    "import cv2\n",
    "import numpy as np\n",
    "\n",
    "plate_cascade = cv2.CascadeClassifier(r\"D:\\Naresh IT\\Project\\Akshay Project\\Project4-Car Number Plate Detection\\haarcascade_russian_plate_number.xml\")\n",
    "cap = cv2.VideoCapture(r\"D:\\Naresh IT\\Project\\Akshay Project\\Project4-Car Number Plate Detection\\Trafic Video_2.mp4\")\n",
    "\n",
    "while True:\n",
    "    ret, frame = cap.read()\n",
    "    \n",
    "    if not ret:\n",
    "        break\n",
    "        \n",
    "    gray = cv2.cvtColor(frame, cv2.COLOR_BGR2GRAY)\n",
    "    \n",
    "    plates = plate_cascade.detectMultiScale(gray, scaleFactor=1.2, minNeighbors=5, minSize=(100, 25), flags=cv2.CASCADE_SCALE_IMAGE)\n",
    "    \n",
    "    for (x, y, w, h) in plates:\n",
    "        cv2.rectangle(frame, (x, y), (x+w, y+h), (0, 255, 0), 2)\n",
    "    \n",
    "    cv2.imshow('Number Plate Detection', frame)\n",
    "    \n",
    "    if cv2.waitKey(1) & 0xFF == ord('q'):\n",
    "        break\n",
    "\n",
    "cap.release()\n",
    "cv2.destroyAllWindows()\n"
   ]
  },
  {
   "cell_type": "markdown",
   "id": "345a04ec",
   "metadata": {},
   "source": [
    "# Car Number Plate Recognized through Image"
   ]
  },
  {
   "cell_type": "code",
   "execution_count": 1,
   "id": "83a56225",
   "metadata": {},
   "outputs": [],
   "source": [
    "import cv2\n",
    "import imutils\n",
    "import pytesseract"
   ]
  },
  {
   "cell_type": "code",
   "execution_count": 2,
   "id": "2662b2b5",
   "metadata": {},
   "outputs": [],
   "source": [
    "pytesseract.tesseract='C:\\Program Files\\Tesseract-OCR\\tesseract\\tesseract-ocr-w64-setup-5.3.1.20230401.exe'"
   ]
  },
  {
   "cell_type": "code",
   "execution_count": 3,
   "id": "f15efad0",
   "metadata": {},
   "outputs": [
    {
     "ename": "NameError",
     "evalue": "name 'cv2' is not defined",
     "output_type": "error",
     "traceback": [
      "\u001b[1;31m---------------------------------------------------------------------------\u001b[0m",
      "\u001b[1;31mNameError\u001b[0m                                 Traceback (most recent call last)",
      "Cell \u001b[1;32mIn[3], line 1\u001b[0m\n\u001b[1;32m----> 1\u001b[0m image \u001b[38;5;241m=\u001b[39m \u001b[43mcv2\u001b[49m\u001b[38;5;241m.\u001b[39mimread(\u001b[38;5;124mr\u001b[39m\u001b[38;5;124m\"\u001b[39m\u001b[38;5;124mD:\u001b[39m\u001b[38;5;124m\\\u001b[39m\u001b[38;5;124mNaresh IT\u001b[39m\u001b[38;5;124m\\\u001b[39m\u001b[38;5;124mProject\u001b[39m\u001b[38;5;124m\\\u001b[39m\u001b[38;5;124mAkshay Project\u001b[39m\u001b[38;5;124m\\\u001b[39m\u001b[38;5;124mProject4-Car Number Plate Detection\u001b[39m\u001b[38;5;124m\\\u001b[39m\u001b[38;5;124mCar2.webp\u001b[39m\u001b[38;5;124m\"\u001b[39m)\n\u001b[0;32m      2\u001b[0m image \u001b[38;5;241m=\u001b[39m imutils\u001b[38;5;241m.\u001b[39mresize(image, width\u001b[38;5;241m=\u001b[39m\u001b[38;5;241m300\u001b[39m )\n\u001b[0;32m      3\u001b[0m cv2\u001b[38;5;241m.\u001b[39mimshow(\u001b[38;5;124m\"\u001b[39m\u001b[38;5;124mCar2 webp\u001b[39m\u001b[38;5;124m\"\u001b[39m, image)\n",
      "\u001b[1;31mNameError\u001b[0m: name 'cv2' is not defined"
     ]
    }
   ],
   "source": [
    "image = cv2.imread(r\"D:\\Naresh IT\\Project\\Akshay Project\\Project4-Car Number Plate Detection\\Car2.webp\")\n",
    "image = imutils.resize(image, width=300 )\n",
    "cv2.imshow(\"Car2 webp\", image)\n",
    "cv2.waitKey(0)\n",
    "\n",
    "gray_image = cv2.cvtColor(image, cv2.COLOR_BGR2GRAY)\n",
    "cv2.imshow(\"greyed image\", gray_image)\n",
    "cv2.waitKey(0)\n",
    "\n",
    "\n",
    "gray_image = cv2.bilateralFilter(gray_image, 11, 17, 17) \n",
    "cv2.imshow(\"smoothened image\", gray_image)\n",
    "cv2.waitKey(0)\n",
    "\n",
    "edged = cv2.Canny(gray_image, 30, 200) \n",
    "cv2.imshow(\"edged image\", edged)\n",
    "cv2.waitKey(0)\n",
    "\n",
    "\n",
    "cnts,new = cv2.findContours(edged.copy(), cv2.RETR_LIST, cv2.CHAIN_APPROX_SIMPLE)\n",
    "image1=image.copy()\n",
    "cv2.drawContours(image1,cnts,-1,(0,255,0),3)\n",
    "cv2.imshow(\"contours\",image1)\n",
    "cv2.waitKey(0)\n",
    "\n",
    "cnts = sorted(cnts, key = cv2.contourArea, reverse = True) [:30]\n",
    "screenCnt = None\n",
    "image2 = image.copy()\n",
    "cv2.drawContours(image2,cnts,-1,(0,255,0),3)\n",
    "cv2.imshow(\"Top 30 contours\",image2)\n",
    "cv2.waitKey(0)\n",
    "\n",
    "i=7\n",
    "for c in cnts:\n",
    "        perimeter = cv2.arcLength(c, True)\n",
    "        approx = cv2.approxPolyDP(c, 0.018 * perimeter, True)\n",
    "        if len(approx) == 4: \n",
    "                screenCnt = approx\n",
    "                \n",
    "x,y,w,h = cv2.boundingRect(c) \n",
    "new_img=image[y:y+h,x:x+w]\n",
    "cv2.imwrite('./'+str(i)+'.png',new_img)\n",
    "i+=1\n",
    "break\n",
    "\n",
    "cv2.drawContours(image, [screenCnt], -1, (0, 255, 0), 3)\n",
    "cv2.imshow(\"image with detected license plate\", image)\n",
    "cv2.waitKey(0)\n",
    "\n",
    "Cropped_loc = './7.png'\n",
    "cv2.imshow(\"cropped\", cv2.imread(Cropped_loc))\n",
    "plate = pytesseract.image_to_string(Cropped_loc, lang='eng')\n",
    "print(\"Number plate is:\", plate)\n",
    "cv2.waitKey(0)\n",
    "cv2.destroyAllWindows()"
   ]
  },
  {
   "cell_type": "code",
   "execution_count": null,
   "id": "736579dd",
   "metadata": {},
   "outputs": [],
   "source": []
  }
 ],
 "metadata": {
  "kernelspec": {
   "display_name": "Python 3 (ipykernel)",
   "language": "python",
   "name": "python3"
  },
  "language_info": {
   "codemirror_mode": {
    "name": "ipython",
    "version": 3
   },
   "file_extension": ".py",
   "mimetype": "text/x-python",
   "name": "python",
   "nbconvert_exporter": "python",
   "pygments_lexer": "ipython3",
   "version": "3.10.11"
  }
 },
 "nbformat": 4,
 "nbformat_minor": 5
}
